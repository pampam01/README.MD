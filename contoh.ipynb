{
  "nbformat": 4,
  "nbformat_minor": 0,
  "metadata": {
    "colab": {
      "provenance": [],
      "authorship_tag": "ABX9TyNxGoeScVn3iHWP4i0Bd3+1",
      "include_colab_link": true
    },
    "kernelspec": {
      "name": "python3",
      "display_name": "Python 3"
    },
    "language_info": {
      "name": "python"
    }
  },
  "cells": [
    {
      "cell_type": "markdown",
      "metadata": {
        "id": "view-in-github",
        "colab_type": "text"
      },
      "source": [
        "<a href=\"https://colab.research.google.com/github/pampam01/README.MD/blob/main/contoh.ipynb\" target=\"_parent\"><img src=\"https://colab.research.google.com/assets/colab-badge.svg\" alt=\"Open In Colab\"/></a>"
      ]
    },
    {
      "cell_type": "code",
      "execution_count": 1,
      "metadata": {
        "colab": {
          "base_uri": "https://localhost:8080/"
        },
        "id": "gHFu4Oo0fL5z",
        "outputId": "717247fd-725a-4129-b398-24899551e738"
      },
      "outputs": [
        {
          "output_type": "stream",
          "name": "stdout",
          "text": [
            "3\n"
          ]
        }
      ],
      "source": [
        "# code untuk penjumlahan\n",
        "def tambah(a, b):\n",
        "  return a + b\n",
        "\n",
        "\n",
        "\n",
        "c = tambah(1, 2)\n",
        "print(c)"
      ]
    },
    {
      "cell_type": "code",
      "source": [
        "#  code untuk pengurangan by ima\n",
        "def kurang(a, b):\n",
        "  return a - b\n",
        "\n",
        "d = kurang(2, 1)\n",
        "print(d)"
      ],
      "metadata": {
        "colab": {
          "base_uri": "https://localhost:8080/"
        },
        "id": "PJl6rEdtfmW5",
        "outputId": "c29e2bb5-1bca-4a5f-cdfa-c5ed6dcf870a"
      },
      "execution_count": 2,
      "outputs": [
        {
          "output_type": "stream",
          "name": "stdout",
          "text": [
            "1\n"
          ]
        }
      ]
    }
  ]
}
